{
 "cells": [
  {
   "cell_type": "markdown",
   "metadata": {},
   "source": [
    "#Lecture 1\n",
    "\n",
    "CS 1311: Intro to Python"
   ]
  },
  {
   "cell_type": "code",
   "execution_count": 5,
   "metadata": {},
   "outputs": [],
   "source": [
    "#A variable is a named item\n",
    "#An assignment statement assigns a variable with a value\n",
    "\n",
    "x = 5;\n",
    "#5 = x is not allowed\n"
   ]
  },
  {
   "cell_type": "code",
   "execution_count": 6,
   "metadata": {},
   "outputs": [
    {
     "name": "stdout",
     "output_type": "stream",
     "text": [
      "5\n"
     ]
    }
   ],
   "source": [
    "print(x)"
   ]
  },
  {
   "cell_type": "code",
   "execution_count": 8,
   "metadata": {},
   "outputs": [
    {
     "name": "stdout",
     "output_type": "stream",
     "text": [
      "a\n",
      "a\n",
      "a\n",
      "a\n",
      "a\n"
     ]
    }
   ],
   "source": [
    "for i in range(x):\n",
    "    print(\"a\");"
   ]
  },
  {
   "cell_type": "code",
   "execution_count": 11,
   "metadata": {},
   "outputs": [
    {
     "name": "stdout",
     "output_type": "stream",
     "text": [
      "The variable x has been assigned 5\n"
     ]
    }
   ],
   "source": [
    "#New to Python 3.6+ are \"f-strings\"\n",
    "print(f'The variable x has been assigned {x}')"
   ]
  },
  {
   "cell_type": "code",
   "execution_count": 15,
   "metadata": {},
   "outputs": [],
   "source": [
    "#Incrementing a variable can be done in two ways\n",
    "x = x + 1\n",
    "x += 1"
   ]
  },
  {
   "cell_type": "code",
   "execution_count": 16,
   "metadata": {},
   "outputs": [
    {
     "name": "stdout",
     "output_type": "stream",
     "text": [
      "9\n"
     ]
    }
   ],
   "source": [
    "print(x)"
   ]
  },
  {
   "cell_type": "markdown",
   "metadata": {},
   "source": [
    "Sample Program: Count the Change\n",
    "Given that you ahve pennies, nickles, dimes, quarters, write a program that computes the total amount of change you have."
   ]
  },
  {
   "cell_type": "code",
   "execution_count": null,
   "metadata": {},
   "outputs": [],
   "source": [
    "pennies  = int(input('Please enter the number of pennies you have: '))\n",
    "print('\\n')\n",
    "nickels  = int(input('Please enter the number of nickels you have: '))\n",
    "print('\\n')\n",
    "dimes    = int(input('Please enter the number of dimes you have: '))\n",
    "print('\\n')\n",
    "quarters = int(input('Please enter the number of quarters you have: '))\n",
    "print('\\n')\n",
    "\n",
    "\n",
    "\n",
    "p = pennies * .01\n",
    "n = nickels * .05\n",
    "d = dimes   * .1\n",
    "q = quarters* .25\n",
    "\n",
    "amt = p+n+d+q\n",
    "\n",
    "print(f\"the amount of dollars is ${amt}\")\n",
    "\n"
   ]
  },
  {
   "cell_type": "code",
   "execution_count": 7,
   "metadata": {},
   "outputs": [
    {
     "name": "stdout",
     "output_type": "stream",
     "text": [
      "please enter the number of pennies you have: -5\n",
      "please enter the number of nickels you have: -4\n",
      "please enter the number of dimes you have: \n",
      "unexpected value, please input an integer\n",
      "please enter the number of dimes you have: -3\n",
      "please enter the number of quarters you have: -3\n",
      "you have $-0.75\n"
     ]
    }
   ],
   "source": [
    "amt = 0;\n",
    "for c in coin_val:\n",
    "    while True:\n",
    "        try:\n",
    "            amt = int(input(f\"please enter the number of {c} you have: \"))*coin_val[c]\n",
    "            break\n",
    "        except ValueError:\n",
    "            print(\"unexpected value, please input an integer\")\n",
    "            \n",
    "\n",
    "print(f'you have ${amt}')\n"
   ]
  },
  {
   "cell_type": "markdown",
   "metadata": {},
   "source": [
    "Dictionaries"
   ]
  },
  {
   "cell_type": "code",
   "execution_count": 4,
   "metadata": {},
   "outputs": [],
   "source": [
    "coin_val = {'pennies': .01,\n",
    "           'nickels': .05,\n",
    "           'dimes':   .1,\n",
    "           'quarters':.25}"
   ]
  },
  {
   "cell_type": "code",
   "execution_count": 15,
   "metadata": {},
   "outputs": [
    {
     "data": {
      "text/plain": [
       "dict_keys(['pennies', 'nickels', 'dimes', 'quarters'])"
      ]
     },
     "execution_count": 15,
     "metadata": {},
     "output_type": "execute_result"
    }
   ],
   "source": [
    "dict_ex.keys()\n"
   ]
  }
 ],
 "metadata": {
  "kernelspec": {
   "display_name": "Python 3",
   "language": "python",
   "name": "python3"
  }
 },
 "nbformat": 4,
 "nbformat_minor": 2
}
